{
 "cells": [
  {
   "cell_type": "markdown",
   "metadata": {},
   "source": [
    "* This is an example KNN algorithm with iris data set that\n",
    "  each flower image is classified by either ('virginia', '')"
   ]
  },
  {
   "cell_type": "code",
   "execution_count": 18,
   "metadata": {
    "scrolled": true
   },
   "outputs": [
    {
     "name": "stdout",
     "output_type": "stream",
     "text": [
      "Size of data :(150, 4)\n",
      "Target value : [0 1 2]\n",
      "[[5.1 3.5 1.4 0.2]\n",
      " [4.9 3.  1.4 0.2]\n",
      " [4.7 3.2 1.3 0.2]\n",
      " [4.6 3.1 1.5 0.2]\n",
      " [5.  3.6 1.4 0.2]\n",
      " [5.4 3.9 1.7 0.4]\n",
      " [4.6 3.4 1.4 0.3]\n",
      " [5.  3.4 1.5 0.2]\n",
      " [4.4 2.9 1.4 0.2]\n",
      " [4.9 3.1 1.5 0.1]]\n",
      "[[0. 0. 1.]]\n",
      "['virginica']\n",
      "{'n_neighbors': 10, 'weights': 'distance'}\n"
     ]
    },
    {
     "data": {
      "image/png": "[encoded data removed]",
      "text/plain": [
       "<Figure size 432x288 with 1 Axes>"
      ]
     },
     "metadata": {
      "needs_background": "light"
     },
     "output_type": "display_data"
    }
   ],
   "source": [
    "from sklearn.neighbors import KNeighborsClassifier\n",
    "from sklearn import datasets\n",
    "from sklearn.model_selection import GridSearchCV\n",
    "import numpy as np\n",
    "import matplotlib.pyplot as plt\n",
    "\n",
    "iris = datasets.load_iris()\n",
    "\n",
    "X, y = iris.data, iris.target\n",
    "print('Size of data :%s' % (X.shape, ))\n",
    "print('Target value : %s' % np.unique(y))\n",
    "print(X[0:10, :])\n",
    "sample = [[6, 4, 6, 2],]\n",
    "\n",
    "knn = KNeighborsClassifier(n_neighbors=10, weights='distance')\n",
    "knn.fit(X,y)\n",
    "\n",
    "predicted_value = knn.predict(sample)\n",
    "print(knn.predict_proba(sample))\n",
    "print(iris.target_names[predicted_value])\n",
    "\n",
    "parameters = {'n_neighbors':(1, 3, 10), 'weights':('uniform', 'distance')}\n",
    "knn_base = KNeighborsClassifier()\n",
    "grid_search = GridSearchCV(cv=5, estimator=knn_base, param_grid=parameters, scoring='accuracy', n_jobs=5)\n",
    "grid_search.fit(X, y)\n",
    "print(grid_search.best_params_)\n",
    "\n",
    "y_svr = grid_search.predict(X)\n",
    "\n",
    "plt.scatter(X[:100, 0], y_svr[:100], c='r', zorder=1, label='grid_search')\n",
    "plt.xlabel('data')\n",
    "plt.ylabel('target')\n",
    "plt.title('SVR versus Kernel Ridge')\n",
    "plt.legend()\n",
    "plt.show()\n"
   ]
  },
  {
   "cell_type": "code",
   "execution_count": null,
   "metadata": {},
   "outputs": [],
   "source": []
  },
  {
   "cell_type": "code",
   "execution_count": null,
   "metadata": {},
   "outputs": [],
   "source": []
  }
 ],
 "metadata": {
  "kernelspec": {
   "display_name": "Python 3",
   "language": "python",
   "name": "python3"
  },
  "language_info": {
   "codemirror_mode": {
    "name": "ipython",
    "version": 3
   },
   "file_extension": ".py",
   "mimetype": "text/x-python",
   "name": "python",
   "nbconvert_exporter": "python",
   "pygments_lexer": "ipython3",
   "version": "3.6.8"
  }
 },
 "nbformat": 4,
 "nbformat_minor": 2
}
